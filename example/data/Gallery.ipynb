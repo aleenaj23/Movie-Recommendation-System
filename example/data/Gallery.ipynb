{
 "cells": [
  {
   "cell_type": "code",
   "execution_count": 1,
   "id": "4e22a6ce",
   "metadata": {},
   "outputs": [],
   "source": [
    "import pandas as pd"
   ]
  },
  {
   "cell_type": "code",
   "execution_count": 46,
   "id": "d580d6b3",
   "metadata": {},
   "outputs": [],
   "source": [
    "data = pd.read_excel(\"2024s.xlsx\")"
   ]
  },
  {
   "cell_type": "code",
   "execution_count": 47,
   "id": "15d5c338",
   "metadata": {},
   "outputs": [
    {
     "data": {
      "text/html": [
       "<div>\n",
       "<style scoped>\n",
       "    .dataframe tbody tr th:only-of-type {\n",
       "        vertical-align: middle;\n",
       "    }\n",
       "\n",
       "    .dataframe tbody tr th {\n",
       "        vertical-align: top;\n",
       "    }\n",
       "\n",
       "    .dataframe thead th {\n",
       "        text-align: right;\n",
       "    }\n",
       "</style>\n",
       "<table border=\"1\" class=\"dataframe\">\n",
       "  <thead>\n",
       "    <tr style=\"text-align: right;\">\n",
       "      <th></th>\n",
       "      <th>Title</th>\n",
       "      <th>Const</th>\n",
       "    </tr>\n",
       "  </thead>\n",
       "  <tbody>\n",
       "    <tr>\n",
       "      <th>0</th>\n",
       "      <td>The Goat Life</td>\n",
       "      <td>tt5525650</td>\n",
       "    </tr>\n",
       "    <tr>\n",
       "      <th>1</th>\n",
       "      <td>Manjummel Boys</td>\n",
       "      <td>tt26458038</td>\n",
       "    </tr>\n",
       "    <tr>\n",
       "      <th>2</th>\n",
       "      <td>Premalu</td>\n",
       "      <td>tt28288786</td>\n",
       "    </tr>\n",
       "    <tr>\n",
       "      <th>3</th>\n",
       "      <td>Bramayugam</td>\n",
       "      <td>tt27431598</td>\n",
       "    </tr>\n",
       "    <tr>\n",
       "      <th>4</th>\n",
       "      <td>Abraham Ozler</td>\n",
       "      <td>tt27816710</td>\n",
       "    </tr>\n",
       "  </tbody>\n",
       "</table>\n",
       "</div>"
      ],
      "text/plain": [
       "            Title       Const\n",
       "0   The Goat Life   tt5525650\n",
       "1  Manjummel Boys  tt26458038\n",
       "2         Premalu  tt28288786\n",
       "3      Bramayugam  tt27431598\n",
       "4   Abraham Ozler  tt27816710"
      ]
     },
     "execution_count": 47,
     "metadata": {},
     "output_type": "execute_result"
    }
   ],
   "source": [
    "data.head()"
   ]
  },
  {
   "cell_type": "code",
   "execution_count": 48,
   "id": "193338cc",
   "metadata": {},
   "outputs": [
    {
     "data": {
      "text/html": [
       "<div>\n",
       "<style scoped>\n",
       "    .dataframe tbody tr th:only-of-type {\n",
       "        vertical-align: middle;\n",
       "    }\n",
       "\n",
       "    .dataframe tbody tr th {\n",
       "        vertical-align: top;\n",
       "    }\n",
       "\n",
       "    .dataframe thead th {\n",
       "        text-align: right;\n",
       "    }\n",
       "</style>\n",
       "<table border=\"1\" class=\"dataframe\">\n",
       "  <thead>\n",
       "    <tr style=\"text-align: right;\">\n",
       "      <th></th>\n",
       "      <th>Title</th>\n",
       "      <th>Const</th>\n",
       "    </tr>\n",
       "  </thead>\n",
       "  <tbody>\n",
       "    <tr>\n",
       "      <th>0</th>\n",
       "      <td>The Goat Life</td>\n",
       "      <td>tt5525650</td>\n",
       "    </tr>\n",
       "    <tr>\n",
       "      <th>1</th>\n",
       "      <td>Manjummel Boys</td>\n",
       "      <td>tt26458038</td>\n",
       "    </tr>\n",
       "    <tr>\n",
       "      <th>2</th>\n",
       "      <td>Premalu</td>\n",
       "      <td>tt28288786</td>\n",
       "    </tr>\n",
       "    <tr>\n",
       "      <th>3</th>\n",
       "      <td>Bramayugam</td>\n",
       "      <td>tt27431598</td>\n",
       "    </tr>\n",
       "    <tr>\n",
       "      <th>4</th>\n",
       "      <td>Abraham Ozler</td>\n",
       "      <td>tt27816710</td>\n",
       "    </tr>\n",
       "    <tr>\n",
       "      <th>5</th>\n",
       "      <td>Aattam</td>\n",
       "      <td>tt27302079</td>\n",
       "    </tr>\n",
       "    <tr>\n",
       "      <th>6</th>\n",
       "      <td>Malaikottai Vaaliban</td>\n",
       "      <td>tt23023596</td>\n",
       "    </tr>\n",
       "    <tr>\n",
       "      <th>7</th>\n",
       "      <td>Aavesham</td>\n",
       "      <td>tt26660021</td>\n",
       "    </tr>\n",
       "    <tr>\n",
       "      <th>8</th>\n",
       "      <td>Varshangalkku Shesham</td>\n",
       "      <td>tt28364355</td>\n",
       "    </tr>\n",
       "    <tr>\n",
       "      <th>9</th>\n",
       "      <td>Malayalee from India</td>\n",
       "      <td>tt26655359</td>\n",
       "    </tr>\n",
       "  </tbody>\n",
       "</table>\n",
       "</div>"
      ],
      "text/plain": [
       "                   Title       Const\n",
       "0          The Goat Life   tt5525650\n",
       "1         Manjummel Boys  tt26458038\n",
       "2                Premalu  tt28288786\n",
       "3             Bramayugam  tt27431598\n",
       "4          Abraham Ozler  tt27816710\n",
       "5                 Aattam  tt27302079\n",
       "6   Malaikottai Vaaliban  tt23023596\n",
       "7               Aavesham  tt26660021\n",
       "8  Varshangalkku Shesham  tt28364355\n",
       "9   Malayalee from India  tt26655359"
      ]
     },
     "execution_count": 48,
     "metadata": {},
     "output_type": "execute_result"
    }
   ],
   "source": [
    "data[:10]"
   ]
  },
  {
   "cell_type": "code",
   "execution_count": 6,
   "id": "973423d4",
   "metadata": {},
   "outputs": [],
   "source": [
    "import requests\n"
   ]
  },
  {
   "cell_type": "code",
   "execution_count": 50,
   "id": "dcb149dc",
   "metadata": {},
   "outputs": [
    {
     "data": {
      "text/plain": [
       "(11, 2)"
      ]
     },
     "execution_count": 50,
     "metadata": {},
     "output_type": "execute_result"
    }
   ],
   "source": [
    "data.shape"
   ]
  },
  {
   "cell_type": "code",
   "execution_count": 3,
   "id": "cf04cf55",
   "metadata": {},
   "outputs": [],
   "source": [
    "def get_poster(id):\n",
    "    url = \"https://api.themoviedb.org/3/find/{}?api_key=64f14bfc62f718d2cf962fe150e5bc40&external_source=imdb_id\".format(id)\n",
    "    response = requests.get(url)\n",
    "    result = response.json()\n",
    "    print(result)\n",
    "    p = \"https://image.tmdb.org/t/p/original\"\n",
    "    q = \"\"\n",
    "    if result['movie_results'][0]['poster_path']:\n",
    "        q = p + result['movie_results'][0]['poster_path']\n",
    "    return q"
   ]
  },
  {
   "cell_type": "code",
   "execution_count": 4,
   "id": "0004985a",
   "metadata": {},
   "outputs": [
    {
     "name": "stdout",
     "output_type": "stream",
     "text": [
      "{'movie_results': [{'backdrop_path': '/4ekJQBRQJKM17qViV0ICqv3AP3D.jpg', 'id': 983219, 'original_title': 'Bazooka', 'overview': '', 'poster_path': '/9Jv42EjWluDecOp4iXLYMMprsOV.jpg', 'media_type': 'movie', 'adult': False, 'title': 'Bazooka', 'original_language': 'ml', 'genre_ids': [28, 53, 80], 'popularity': 5.929, 'release_date': '', 'video': False, 'vote_average': 0.0, 'vote_count': 0}], 'person_results': [], 'tv_results': [], 'tv_episode_results': [], 'tv_season_results': []}\n"
     ]
    },
    {
     "data": {
      "text/plain": [
       "'https://image.tmdb.org/t/p/original/9Jv42EjWluDecOp4iXLYMMprsOV.jpg'"
      ]
     },
     "execution_count": 4,
     "metadata": {},
     "output_type": "execute_result"
    }
   ],
   "source": [
    "get_poster(\"tt27470003\")"
   ]
  },
  {
   "cell_type": "code",
   "execution_count": 53,
   "id": "12f02a95",
   "metadata": {},
   "outputs": [
    {
     "name": "stdout",
     "output_type": "stream",
     "text": [
      "{'movie_results': [{'backdrop_path': '/iiPyuMn3SHluoLPhIBvxh04wIAb.jpg', 'id': 472221, 'original_title': 'ആടുജീവിതം', 'overview': 'The real-life incident of an Indian migrant worker, Najeeb Muhammad, who goes to Saudi Arabia to earn money. However, in a twist of fate, he finds himself living a slave-like existence, herding goats in the middle of the desert.', 'poster_path': '/95p65Eb3meuWj8DhldOeIz3NLPF.jpg', 'media_type': 'movie', 'adult': False, 'title': 'The Goat Life', 'original_language': 'ml', 'genre_ids': [18, 12], 'popularity': 9.97, 'release_date': '2024-03-28', 'video': False, 'vote_average': 7.0, 'vote_count': 2}], 'person_results': [], 'tv_results': [], 'tv_episode_results': [], 'tv_season_results': []}\n",
      "{'movie_results': [{'backdrop_path': '/rImcA1JkF88uTfyr26px6HBXUax.jpg', 'id': 1069945, 'original_title': 'മഞ്ഞുമ്മല്\\u200d BOYS', 'overview': 'Manjummel Boys, based on a real story, is about a bunch of friends who set out on a trip to Kodaikanal and the events that occur there.', 'poster_path': '/s5HBKH7hNo8EElJTFQPEDwYgXhG.jpg', 'media_type': 'movie', 'adult': False, 'title': 'Manjummel Boys', 'original_language': 'ml', 'genre_ids': [12, 53, 18], 'popularity': 85.428, 'release_date': '2024-02-22', 'video': False, 'vote_average': 7.9, 'vote_count': 20}], 'person_results': [], 'tv_results': [], 'tv_episode_results': [], 'tv_season_results': []}\n",
      "{'movie_results': [{'backdrop_path': '/gDyLcjvmdAhmYqjCMwZ9PndnAVm.jpg', 'id': 1149791, 'original_title': 'പ്രേമലു', 'overview': 'Sachin pursues romance but finds himself caught between two potential partners, leading to amusing complications.', 'poster_path': '/uPpmBjY3znUqGY8kYwI5xvOrSc0.jpg', 'media_type': 'movie', 'adult': False, 'title': 'Premalu', 'original_language': 'ml', 'genre_ids': [10749, 35], 'popularity': 21.622, 'release_date': '2024-02-09', 'video': False, 'vote_average': 7.9, 'vote_count': 19}], 'person_results': [], 'tv_results': [], 'tv_episode_results': [], 'tv_season_results': []}\n",
      "{'movie_results': [{'backdrop_path': '/qLkVnDIpfpOjCpH3MfApW8jUir1.jpg', 'id': 1166133, 'original_title': 'ഭ്രമയുഗം', 'overview': 'Thevan, a folk singer of the Paanan caste, has a fateful encounter when escaping slavery, leading to discover an ancient tradition altering his destiny.', 'poster_path': '/8ojbLvqjUDRPvau4w6DBbmgoD7W.jpg', 'media_type': 'movie', 'adult': False, 'title': 'Bramayugam', 'original_language': 'ml', 'genre_ids': [27, 53], 'popularity': 14.363, 'release_date': '2024-02-15', 'video': False, 'vote_average': 7.6, 'vote_count': 16}], 'person_results': [], 'tv_results': [], 'tv_episode_results': [], 'tv_season_results': []}\n",
      "{'movie_results': [{'backdrop_path': '/fO29Ccn3GT3FX3jCzXZNcG8ZqkM.jpg', 'id': 1184247, 'original_title': 'എബ്രഹാം ഓസ്ലർ', 'overview': 'The story revolves around the personal and professional lives of veteran cop Abraham Ozler, ACP Trichur, who at one time has to take up a serial killing case and the mysterious hunt begins', 'poster_path': '/rBFEad9Yp2LtZNKsEbmWKruOOP2.jpg', 'media_type': 'movie', 'adult': False, 'title': 'Abraham Ozler', 'original_language': 'ml', 'genre_ids': [53, 18, 80], 'popularity': 4.339, 'release_date': '2024-01-11', 'video': False, 'vote_average': 6.5, 'vote_count': 7}], 'person_results': [], 'tv_results': [], 'tv_episode_results': [], 'tv_season_results': []}\n",
      "{'movie_results': [{'backdrop_path': '/75rb8oTFVzOHhlL6RX6cEG7Q3fA.jpg', 'id': 957926, 'original_title': 'ആട്ടം', 'overview': 'After a party amongst a theatre group, their sole actress, Anjali is subjected to a crime from one of the men in the group. A meeting is called for. In trying to reach a consensus, stories unravel, suspicions surface and clamour ensues.', 'poster_path': '/a16FtNn9OcvBHRdh1X6KWzaOV8H.jpg', 'media_type': 'movie', 'adult': False, 'title': 'Aattam', 'original_language': 'ml', 'genre_ids': [18], 'popularity': 2.431, 'release_date': '2024-01-05', 'video': False, 'vote_average': 8.0, 'vote_count': 5}], 'person_results': [], 'tv_results': [], 'tv_episode_results': [], 'tv_season_results': []}\n",
      "{'movie_results': [{'backdrop_path': '/acnivNSu0ohcTemuXuhKJ0cyVgf.jpg', 'id': 1038874, 'original_title': 'മലൈക്കോട്ടൈ വാലിബന്\\u200d', 'overview': 'Malaikottai Vaaliban, an uncontested warrior proves himself to be a reigning hero across time and geographies, defeating every opponent he encounters. As Vaaliban continues his victorious journey along with his aids Chinnappaiyyan & Ayyanar meets Rangapattinam Rangarani, an ethereal dancer at a betting parlour in Nooraanathalayur. This is the moment that also invites Chamathakan, a villainous presence who will shadow Vaaliban through the rest of his journey. This group then proceed on journey with many twists and turns that leads Vaaliban to his ultimate challenge.', 'poster_path': '/xZQpQC0FKrCnrNJTWWzpeUbFGvJ.jpg', 'media_type': 'movie', 'adult': False, 'title': 'Malaikottai Vaaliban', 'original_language': 'ml', 'genre_ids': [28, 18, 14], 'popularity': 4.137, 'release_date': '2024-01-25', 'video': False, 'vote_average': 6.9, 'vote_count': 10}], 'person_results': [], 'tv_results': [], 'tv_episode_results': [], 'tv_season_results': []}\n",
      "{'movie_results': [{'backdrop_path': '/6WxEPaZGFWmQegUmseoGtlTKtQq.jpg', 'id': 1084812, 'original_title': 'ആവേശം', 'overview': 'The story begins with three teens coming to Bangalore for their engineering education and getting involved in a fight with seniors. They find a local gangster named Ranga to help them take revenge. The events, after meeting him, takes them through a journey, which seemed like a dream at first but soon turned into a nightmare.', 'poster_path': '/k5RWPaNjgRcNvGoawYaQHQwyctI.jpg', 'media_type': 'movie', 'adult': False, 'title': 'Aavesham', 'original_language': 'ml', 'genre_ids': [35, 28], 'popularity': 64.101, 'release_date': '2024-04-11', 'video': False, 'vote_average': 7.7, 'vote_count': 10}], 'person_results': [], 'tv_results': [], 'tv_episode_results': [], 'tv_season_results': []}\n",
      "{'movie_results': [{'backdrop_path': '/d2LcfSjPO0L8esuRXqhQU10JzpQ.jpg', 'id': 1151560, 'original_title': 'വർഷങ്ങൾക്ക് ശേഷം', 'overview': 'Revolves around cherished memories or a reunion among a group of friends after a substantial passage of time.', 'poster_path': '/dVLqE9aEszo8yrc8TDk3bloYHHS.jpg', 'media_type': 'movie', 'adult': False, 'title': 'Varshangalkku Shesham', 'original_language': 'ml', 'genre_ids': [18, 35, 10749], 'popularity': 4.753, 'release_date': '2024-04-11', 'video': False, 'vote_average': 4.5, 'vote_count': 1}], 'person_results': [], 'tv_results': [], 'tv_episode_results': [], 'tv_season_results': []}\n",
      "{'movie_results': [{'backdrop_path': None, 'id': 1101175, 'original_title': 'മലയാളി ഫ്രം ഇന്ത്യ', 'overview': 'Aalparambil Gopi, an unemployed boy, is forced to travel away from home. Fortunately, the journey ends up transforming his life forever.', 'poster_path': '/mOqYSsuaDi9D6dh0GRF8gj2ilJQ.jpg', 'media_type': 'movie', 'adult': False, 'title': 'Malayalee from India', 'original_language': 'ml', 'genre_ids': [18, 35], 'popularity': 3.78, 'release_date': '2024-05-01', 'video': False, 'vote_average': 0.0, 'vote_count': 0}], 'person_results': [], 'tv_results': [], 'tv_episode_results': [], 'tv_season_results': []}\n",
      "{'movie_results': [{'backdrop_path': '/eHbVF8yBkOZn6PhmIboSzpQyMTZ.jpg', 'id': 893591, 'original_title': 'നടികര്\\u200d', 'overview': 'Follows the life of superstar David Padikkal. David is a good actor but there comes a point in his life when he is forced to look inward to locate his real character.', 'poster_path': '/xxp2sa8RlELdsVAPplhbP5aq2Is.jpg', 'media_type': 'movie', 'adult': False, 'title': 'Nadikar', 'original_language': 'ml', 'genre_ids': [35, 18], 'popularity': 6.717, 'release_date': '2024-05-03', 'video': False, 'vote_average': 0.0, 'vote_count': 0}], 'person_results': [], 'tv_results': [], 'tv_episode_results': [], 'tv_season_results': []}\n"
     ]
    }
   ],
   "source": [
    "data['poster'] = data['Const'].apply(get_poster)"
   ]
  },
  {
   "cell_type": "code",
   "execution_count": 54,
   "id": "ddd678b8",
   "metadata": {},
   "outputs": [
    {
     "data": {
      "text/plain": [
       "0"
      ]
     },
     "execution_count": 54,
     "metadata": {},
     "output_type": "execute_result"
    }
   ],
   "source": [
    "data['poster'].isnull().sum()"
   ]
  },
  {
   "cell_type": "code",
   "execution_count": 55,
   "id": "2d9dd177",
   "metadata": {},
   "outputs": [],
   "source": [
    "data.to_csv(\"2024_s.csv\", index= False)"
   ]
  },
  {
   "cell_type": "code",
   "execution_count": 2,
   "id": "2cc6314d",
   "metadata": {},
   "outputs": [],
   "source": [
    "data = pd.read_csv(\"english.csv\")"
   ]
  },
  {
   "cell_type": "code",
   "execution_count": 3,
   "id": "ca37bb2c",
   "metadata": {},
   "outputs": [
    {
     "data": {
      "text/html": [
       "<div>\n",
       "<style scoped>\n",
       "    .dataframe tbody tr th:only-of-type {\n",
       "        vertical-align: middle;\n",
       "    }\n",
       "\n",
       "    .dataframe tbody tr th {\n",
       "        vertical-align: top;\n",
       "    }\n",
       "\n",
       "    .dataframe thead th {\n",
       "        text-align: right;\n",
       "    }\n",
       "</style>\n",
       "<table border=\"1\" class=\"dataframe\">\n",
       "  <thead>\n",
       "    <tr style=\"text-align: right;\">\n",
       "      <th></th>\n",
       "      <th>Title</th>\n",
       "      <th>overview</th>\n",
       "      <th>cast</th>\n",
       "      <th>Const</th>\n",
       "      <th>Year</th>\n",
       "      <th>Genres</th>\n",
       "      <th>Directors</th>\n",
       "      <th>tag</th>\n",
       "    </tr>\n",
       "  </thead>\n",
       "  <tbody>\n",
       "    <tr>\n",
       "      <th>0</th>\n",
       "      <td>Batman v Superman: Dawn of Justice</td>\n",
       "      <td>Batman is manipulated by Lex Luthor to fear Su...</td>\n",
       "      <td>Ben Affleck, Henry Cavill, Amy Adams, Jesse Ei...</td>\n",
       "      <td>tt2975590</td>\n",
       "      <td>2016</td>\n",
       "      <td>Action, Adventure, Sci-Fi</td>\n",
       "      <td>Zack Snyder</td>\n",
       "      <td>Zack Snyder Ben Affleck, Henry Cavill, Amy Ada...</td>\n",
       "    </tr>\n",
       "    <tr>\n",
       "      <th>1</th>\n",
       "      <td>Captain America: Civil War</td>\n",
       "      <td>Political involvement in the Avengers' affairs...</td>\n",
       "      <td>Chris Evans, Robert Downey Jr., Scarlett Johan...</td>\n",
       "      <td>tt3498820</td>\n",
       "      <td>2016</td>\n",
       "      <td>Action, Sci-Fi</td>\n",
       "      <td>Anthony Russo, Joe Russo</td>\n",
       "      <td>Anthony Russo, Joe Russo Chris Evans, Robert D...</td>\n",
       "    </tr>\n",
       "    <tr>\n",
       "      <th>2</th>\n",
       "      <td>X-Men: Apocalypse</td>\n",
       "      <td>In the 1980s the X-Men must defeat an ancient ...</td>\n",
       "      <td>James McAvoy, Michael Fassbender, Jennifer Law...</td>\n",
       "      <td>tt3385516</td>\n",
       "      <td>2016</td>\n",
       "      <td>Action, Adventure, Sci-Fi</td>\n",
       "      <td>Bryan Singer</td>\n",
       "      <td>Bryan Singer James McAvoy, Michael Fassbender,...</td>\n",
       "    </tr>\n",
       "    <tr>\n",
       "      <th>3</th>\n",
       "      <td>The Jungle Book</td>\n",
       "      <td>After a threat from the tiger Shere Khan force...</td>\n",
       "      <td>Neel Sethi, Bill Murray, Ben Kingsley, Idris Elba</td>\n",
       "      <td>tt3040964</td>\n",
       "      <td>2016</td>\n",
       "      <td>Animation, Action, Adventure, Drama, Family, F...</td>\n",
       "      <td>Jon Favreau</td>\n",
       "      <td>Jon Favreau Neel Sethi, Bill Murray, Ben Kings...</td>\n",
       "    </tr>\n",
       "    <tr>\n",
       "      <th>4</th>\n",
       "      <td>Assassin's Creed</td>\n",
       "      <td>Callum Lynch explores the memories of his ance...</td>\n",
       "      <td>Michael Fassbender, Marion Cotillard, Jeremy I...</td>\n",
       "      <td>tt2094766</td>\n",
       "      <td>2016</td>\n",
       "      <td>Action, Adventure, Sci-Fi</td>\n",
       "      <td>Justin Kurzel</td>\n",
       "      <td>Justin Kurzel Michael Fassbender, Marion Cotil...</td>\n",
       "    </tr>\n",
       "  </tbody>\n",
       "</table>\n",
       "</div>"
      ],
      "text/plain": [
       "                                Title  \\\n",
       "0  Batman v Superman: Dawn of Justice   \n",
       "1          Captain America: Civil War   \n",
       "2                   X-Men: Apocalypse   \n",
       "3                     The Jungle Book   \n",
       "4                    Assassin's Creed   \n",
       "\n",
       "                                            overview  \\\n",
       "0  Batman is manipulated by Lex Luthor to fear Su...   \n",
       "1  Political involvement in the Avengers' affairs...   \n",
       "2  In the 1980s the X-Men must defeat an ancient ...   \n",
       "3  After a threat from the tiger Shere Khan force...   \n",
       "4  Callum Lynch explores the memories of his ance...   \n",
       "\n",
       "                                                cast      Const  Year  \\\n",
       "0  Ben Affleck, Henry Cavill, Amy Adams, Jesse Ei...  tt2975590  2016   \n",
       "1  Chris Evans, Robert Downey Jr., Scarlett Johan...  tt3498820  2016   \n",
       "2  James McAvoy, Michael Fassbender, Jennifer Law...  tt3385516  2016   \n",
       "3  Neel Sethi, Bill Murray, Ben Kingsley, Idris Elba  tt3040964  2016   \n",
       "4  Michael Fassbender, Marion Cotillard, Jeremy I...  tt2094766  2016   \n",
       "\n",
       "                                              Genres  \\\n",
       "0                          Action, Adventure, Sci-Fi   \n",
       "1                                     Action, Sci-Fi   \n",
       "2                          Action, Adventure, Sci-Fi   \n",
       "3  Animation, Action, Adventure, Drama, Family, F...   \n",
       "4                          Action, Adventure, Sci-Fi   \n",
       "\n",
       "                  Directors                                                tag  \n",
       "0               Zack Snyder  Zack Snyder Ben Affleck, Henry Cavill, Amy Ada...  \n",
       "1  Anthony Russo, Joe Russo  Anthony Russo, Joe Russo Chris Evans, Robert D...  \n",
       "2              Bryan Singer  Bryan Singer James McAvoy, Michael Fassbender,...  \n",
       "3               Jon Favreau  Jon Favreau Neel Sethi, Bill Murray, Ben Kings...  \n",
       "4             Justin Kurzel  Justin Kurzel Michael Fassbender, Marion Cotil...  "
      ]
     },
     "execution_count": 3,
     "metadata": {},
     "output_type": "execute_result"
    }
   ],
   "source": [
    "data.head()"
   ]
  },
  {
   "cell_type": "code",
   "execution_count": 5,
   "id": "c1d60261",
   "metadata": {},
   "outputs": [],
   "source": [
    "data['tag'] = data['tag'].str.lower()"
   ]
  },
  {
   "cell_type": "code",
   "execution_count": 7,
   "id": "749e166c",
   "metadata": {},
   "outputs": [
    {
     "data": {
      "text/plain": [
       "'zack snyder ben affleck, henry cavill, amy adams, jesse eisenberg action, adventure, sci-fi batman is manipulated by lex luthor to fear superman. superman´s existence is meanwhile dividing the world and he is framed for murder during an international crisis. the heroes clash and force the neutral wonder woman to reemerge. 2016'"
      ]
     },
     "execution_count": 7,
     "metadata": {},
     "output_type": "execute_result"
    }
   ],
   "source": [
    "data['tag'][0]"
   ]
  },
  {
   "cell_type": "code",
   "execution_count": 8,
   "id": "4861ee06",
   "metadata": {},
   "outputs": [],
   "source": [
    "data['tag'] = data['tag'].replace(r'\\'|\\,|\\.|\\`', '', regex = True)"
   ]
  },
  {
   "cell_type": "code",
   "execution_count": 9,
   "id": "d837d2c2",
   "metadata": {},
   "outputs": [
    {
     "data": {
      "text/plain": [
       "'zack snyder ben affleck henry cavill amy adams jesse eisenberg action adventure sci-fi batman is manipulated by lex luthor to fear superman superman´s existence is meanwhile dividing the world and he is framed for murder during an international crisis the heroes clash and force the neutral wonder woman to reemerge 2016'"
      ]
     },
     "execution_count": 9,
     "metadata": {},
     "output_type": "execute_result"
    }
   ],
   "source": [
    "data['tag'][0]"
   ]
  },
  {
   "cell_type": "code",
   "execution_count": 10,
   "id": "14542e1c",
   "metadata": {},
   "outputs": [
    {
     "data": {
      "text/html": [
       "<div>\n",
       "<style scoped>\n",
       "    .dataframe tbody tr th:only-of-type {\n",
       "        vertical-align: middle;\n",
       "    }\n",
       "\n",
       "    .dataframe tbody tr th {\n",
       "        vertical-align: top;\n",
       "    }\n",
       "\n",
       "    .dataframe thead th {\n",
       "        text-align: right;\n",
       "    }\n",
       "</style>\n",
       "<table border=\"1\" class=\"dataframe\">\n",
       "  <thead>\n",
       "    <tr style=\"text-align: right;\">\n",
       "      <th></th>\n",
       "      <th>Title</th>\n",
       "      <th>overview</th>\n",
       "      <th>cast</th>\n",
       "      <th>Const</th>\n",
       "      <th>Year</th>\n",
       "      <th>Genres</th>\n",
       "      <th>Directors</th>\n",
       "      <th>tag</th>\n",
       "    </tr>\n",
       "  </thead>\n",
       "  <tbody>\n",
       "    <tr>\n",
       "      <th>0</th>\n",
       "      <td>Batman v Superman: Dawn of Justice</td>\n",
       "      <td>Batman is manipulated by Lex Luthor to fear Su...</td>\n",
       "      <td>Ben Affleck, Henry Cavill, Amy Adams, Jesse Ei...</td>\n",
       "      <td>tt2975590</td>\n",
       "      <td>2016</td>\n",
       "      <td>Action, Adventure, Sci-Fi</td>\n",
       "      <td>Zack Snyder</td>\n",
       "      <td>zack snyder ben affleck henry cavill amy adams...</td>\n",
       "    </tr>\n",
       "    <tr>\n",
       "      <th>1</th>\n",
       "      <td>Captain America: Civil War</td>\n",
       "      <td>Political involvement in the Avengers' affairs...</td>\n",
       "      <td>Chris Evans, Robert Downey Jr., Scarlett Johan...</td>\n",
       "      <td>tt3498820</td>\n",
       "      <td>2016</td>\n",
       "      <td>Action, Sci-Fi</td>\n",
       "      <td>Anthony Russo, Joe Russo</td>\n",
       "      <td>anthony russo joe russo chris evans robert dow...</td>\n",
       "    </tr>\n",
       "    <tr>\n",
       "      <th>2</th>\n",
       "      <td>X-Men: Apocalypse</td>\n",
       "      <td>In the 1980s the X-Men must defeat an ancient ...</td>\n",
       "      <td>James McAvoy, Michael Fassbender, Jennifer Law...</td>\n",
       "      <td>tt3385516</td>\n",
       "      <td>2016</td>\n",
       "      <td>Action, Adventure, Sci-Fi</td>\n",
       "      <td>Bryan Singer</td>\n",
       "      <td>bryan singer james mcavoy michael fassbender j...</td>\n",
       "    </tr>\n",
       "    <tr>\n",
       "      <th>3</th>\n",
       "      <td>The Jungle Book</td>\n",
       "      <td>After a threat from the tiger Shere Khan force...</td>\n",
       "      <td>Neel Sethi, Bill Murray, Ben Kingsley, Idris Elba</td>\n",
       "      <td>tt3040964</td>\n",
       "      <td>2016</td>\n",
       "      <td>Animation, Action, Adventure, Drama, Family, F...</td>\n",
       "      <td>Jon Favreau</td>\n",
       "      <td>jon favreau neel sethi bill murray ben kingsle...</td>\n",
       "    </tr>\n",
       "    <tr>\n",
       "      <th>4</th>\n",
       "      <td>Assassin's Creed</td>\n",
       "      <td>Callum Lynch explores the memories of his ance...</td>\n",
       "      <td>Michael Fassbender, Marion Cotillard, Jeremy I...</td>\n",
       "      <td>tt2094766</td>\n",
       "      <td>2016</td>\n",
       "      <td>Action, Adventure, Sci-Fi</td>\n",
       "      <td>Justin Kurzel</td>\n",
       "      <td>justin kurzel michael fassbender marion cotill...</td>\n",
       "    </tr>\n",
       "    <tr>\n",
       "      <th>...</th>\n",
       "      <td>...</td>\n",
       "      <td>...</td>\n",
       "      <td>...</td>\n",
       "      <td>...</td>\n",
       "      <td>...</td>\n",
       "      <td>...</td>\n",
       "      <td>...</td>\n",
       "      <td>...</td>\n",
       "    </tr>\n",
       "    <tr>\n",
       "      <th>7783</th>\n",
       "      <td>The Russians Are Coming, The Russians Are Coming</td>\n",
       "      <td>Without hostile intent, a Soviet sub runs agro...</td>\n",
       "      <td>Carl Reiner|Eva Marie Saint|Alan Arkin|Brian K...</td>\n",
       "      <td>tt0060921</td>\n",
       "      <td>1966</td>\n",
       "      <td>Comedy|War</td>\n",
       "      <td>Norman Jewison</td>\n",
       "      <td>norman jewison carl reiner|eva marie saint|ala...</td>\n",
       "    </tr>\n",
       "    <tr>\n",
       "      <th>7784</th>\n",
       "      <td>Carry On Screaming!</td>\n",
       "      <td>The sinister Dr Watt has an evil scheme going....</td>\n",
       "      <td>Kenneth Williams|Jim Dale|Harry H. Corbett|Joa...</td>\n",
       "      <td>tt0060214</td>\n",
       "      <td>1966</td>\n",
       "      <td>Comedy</td>\n",
       "      <td>Gerald Thomas</td>\n",
       "      <td>gerald thomas kenneth williams|jim dale|harry ...</td>\n",
       "    </tr>\n",
       "    <tr>\n",
       "      <th>7785</th>\n",
       "      <td>Grand Prix</td>\n",
       "      <td>Grand Prix driver Pete Aron is fired by his te...</td>\n",
       "      <td>James Garner|Eva Marie Saint|Yves Montand|Tosh...</td>\n",
       "      <td>tt0060472</td>\n",
       "      <td>1966</td>\n",
       "      <td>Action|Adventure|Drama</td>\n",
       "      <td>John Frankenheimer</td>\n",
       "      <td>john frankenheimer james garner|eva marie sain...</td>\n",
       "    </tr>\n",
       "    <tr>\n",
       "      <th>7786</th>\n",
       "      <td>What's Up, Tiger Lily?</td>\n",
       "      <td>In comic Woody Allen's film debut, he took the...</td>\n",
       "      <td>Tatsuya Mihashi|Akiko Wakabayashi|Mie Hama|Joh...</td>\n",
       "      <td>tt0061177</td>\n",
       "      <td>1966</td>\n",
       "      <td>Action|Comedy</td>\n",
       "      <td>Woody Allen</td>\n",
       "      <td>woody allen tatsuya mihashi|akiko wakabayashi|...</td>\n",
       "    </tr>\n",
       "    <tr>\n",
       "      <th>7787</th>\n",
       "      <td>Manos: The Hands of Fate</td>\n",
       "      <td>A family gets lost on the road and stumbles up...</td>\n",
       "      <td>Harold P. Warren|Tom Neyman|John Reynolds|Dian...</td>\n",
       "      <td>tt0060666</td>\n",
       "      <td>1966</td>\n",
       "      <td>Horror</td>\n",
       "      <td>Harold P. Warren</td>\n",
       "      <td>harold p warren harold p warren|tom neyman|joh...</td>\n",
       "    </tr>\n",
       "  </tbody>\n",
       "</table>\n",
       "<p>7788 rows × 8 columns</p>\n",
       "</div>"
      ],
      "text/plain": [
       "                                                 Title  \\\n",
       "0                   Batman v Superman: Dawn of Justice   \n",
       "1                           Captain America: Civil War   \n",
       "2                                    X-Men: Apocalypse   \n",
       "3                                      The Jungle Book   \n",
       "4                                     Assassin's Creed   \n",
       "...                                                ...   \n",
       "7783  The Russians Are Coming, The Russians Are Coming   \n",
       "7784                               Carry On Screaming!   \n",
       "7785                                        Grand Prix   \n",
       "7786                            What's Up, Tiger Lily?   \n",
       "7787                          Manos: The Hands of Fate   \n",
       "\n",
       "                                               overview  \\\n",
       "0     Batman is manipulated by Lex Luthor to fear Su...   \n",
       "1     Political involvement in the Avengers' affairs...   \n",
       "2     In the 1980s the X-Men must defeat an ancient ...   \n",
       "3     After a threat from the tiger Shere Khan force...   \n",
       "4     Callum Lynch explores the memories of his ance...   \n",
       "...                                                 ...   \n",
       "7783  Without hostile intent, a Soviet sub runs agro...   \n",
       "7784  The sinister Dr Watt has an evil scheme going....   \n",
       "7785  Grand Prix driver Pete Aron is fired by his te...   \n",
       "7786  In comic Woody Allen's film debut, he took the...   \n",
       "7787  A family gets lost on the road and stumbles up...   \n",
       "\n",
       "                                                   cast      Const  Year  \\\n",
       "0     Ben Affleck, Henry Cavill, Amy Adams, Jesse Ei...  tt2975590  2016   \n",
       "1     Chris Evans, Robert Downey Jr., Scarlett Johan...  tt3498820  2016   \n",
       "2     James McAvoy, Michael Fassbender, Jennifer Law...  tt3385516  2016   \n",
       "3     Neel Sethi, Bill Murray, Ben Kingsley, Idris Elba  tt3040964  2016   \n",
       "4     Michael Fassbender, Marion Cotillard, Jeremy I...  tt2094766  2016   \n",
       "...                                                 ...        ...   ...   \n",
       "7783  Carl Reiner|Eva Marie Saint|Alan Arkin|Brian K...  tt0060921  1966   \n",
       "7784  Kenneth Williams|Jim Dale|Harry H. Corbett|Joa...  tt0060214  1966   \n",
       "7785  James Garner|Eva Marie Saint|Yves Montand|Tosh...  tt0060472  1966   \n",
       "7786  Tatsuya Mihashi|Akiko Wakabayashi|Mie Hama|Joh...  tt0061177  1966   \n",
       "7787  Harold P. Warren|Tom Neyman|John Reynolds|Dian...  tt0060666  1966   \n",
       "\n",
       "                                                 Genres  \\\n",
       "0                             Action, Adventure, Sci-Fi   \n",
       "1                                        Action, Sci-Fi   \n",
       "2                             Action, Adventure, Sci-Fi   \n",
       "3     Animation, Action, Adventure, Drama, Family, F...   \n",
       "4                             Action, Adventure, Sci-Fi   \n",
       "...                                                 ...   \n",
       "7783                                         Comedy|War   \n",
       "7784                                             Comedy   \n",
       "7785                             Action|Adventure|Drama   \n",
       "7786                                      Action|Comedy   \n",
       "7787                                             Horror   \n",
       "\n",
       "                     Directors  \\\n",
       "0                  Zack Snyder   \n",
       "1     Anthony Russo, Joe Russo   \n",
       "2                 Bryan Singer   \n",
       "3                  Jon Favreau   \n",
       "4                Justin Kurzel   \n",
       "...                        ...   \n",
       "7783            Norman Jewison   \n",
       "7784             Gerald Thomas   \n",
       "7785        John Frankenheimer   \n",
       "7786               Woody Allen   \n",
       "7787          Harold P. Warren   \n",
       "\n",
       "                                                    tag  \n",
       "0     zack snyder ben affleck henry cavill amy adams...  \n",
       "1     anthony russo joe russo chris evans robert dow...  \n",
       "2     bryan singer james mcavoy michael fassbender j...  \n",
       "3     jon favreau neel sethi bill murray ben kingsle...  \n",
       "4     justin kurzel michael fassbender marion cotill...  \n",
       "...                                                 ...  \n",
       "7783  norman jewison carl reiner|eva marie saint|ala...  \n",
       "7784  gerald thomas kenneth williams|jim dale|harry ...  \n",
       "7785  john frankenheimer james garner|eva marie sain...  \n",
       "7786  woody allen tatsuya mihashi|akiko wakabayashi|...  \n",
       "7787  harold p warren harold p warren|tom neyman|joh...  \n",
       "\n",
       "[7788 rows x 8 columns]"
      ]
     },
     "execution_count": 10,
     "metadata": {},
     "output_type": "execute_result"
    }
   ],
   "source": [
    "data"
   ]
  },
  {
   "cell_type": "code",
   "execution_count": 11,
   "id": "e8ab53d5",
   "metadata": {},
   "outputs": [],
   "source": [
    "data.to_csv(\"english.csv\", index= False)"
   ]
  },
  {
   "cell_type": "code",
   "execution_count": 5,
   "id": "09f266c7",
   "metadata": {},
   "outputs": [],
   "source": [
    "data = pd.read_excel(\"2024_e.xlsx\")"
   ]
  },
  {
   "cell_type": "code",
   "execution_count": 6,
   "id": "fe206eff",
   "metadata": {},
   "outputs": [
    {
     "data": {
      "text/html": [
       "<div>\n",
       "<style scoped>\n",
       "    .dataframe tbody tr th:only-of-type {\n",
       "        vertical-align: middle;\n",
       "    }\n",
       "\n",
       "    .dataframe tbody tr th {\n",
       "        vertical-align: top;\n",
       "    }\n",
       "\n",
       "    .dataframe thead th {\n",
       "        text-align: right;\n",
       "    }\n",
       "</style>\n",
       "<table border=\"1\" class=\"dataframe\">\n",
       "  <thead>\n",
       "    <tr style=\"text-align: right;\">\n",
       "      <th></th>\n",
       "      <th>Title</th>\n",
       "      <th>Const</th>\n",
       "      <th>poster</th>\n",
       "    </tr>\n",
       "  </thead>\n",
       "  <tbody>\n",
       "    <tr>\n",
       "      <th>0</th>\n",
       "      <td>Dune: Part Two</td>\n",
       "      <td>tt15239678</td>\n",
       "      <td>NaN</td>\n",
       "    </tr>\n",
       "    <tr>\n",
       "      <th>1</th>\n",
       "      <td>Kingdom of the Planet of the Apes</td>\n",
       "      <td>tt11389872</td>\n",
       "      <td>NaN</td>\n",
       "    </tr>\n",
       "    <tr>\n",
       "      <th>2</th>\n",
       "      <td>Godzilla x Kong: The New Empire</td>\n",
       "      <td>tt14539740</td>\n",
       "      <td>NaN</td>\n",
       "    </tr>\n",
       "    <tr>\n",
       "      <th>3</th>\n",
       "      <td>Kung Fu Panda 4</td>\n",
       "      <td>tt21692408</td>\n",
       "      <td>NaN</td>\n",
       "    </tr>\n",
       "    <tr>\n",
       "      <th>4</th>\n",
       "      <td>Ghostbusters: Frozen Empire</td>\n",
       "      <td>tt21235248</td>\n",
       "      <td>NaN</td>\n",
       "    </tr>\n",
       "    <tr>\n",
       "      <th>5</th>\n",
       "      <td>Bob Marley: One Love</td>\n",
       "      <td>tt8521778</td>\n",
       "      <td>NaN</td>\n",
       "    </tr>\n",
       "  </tbody>\n",
       "</table>\n",
       "</div>"
      ],
      "text/plain": [
       "                               Title       Const  poster\n",
       "0                     Dune: Part Two  tt15239678     NaN\n",
       "1  Kingdom of the Planet of the Apes  tt11389872     NaN\n",
       "2    Godzilla x Kong: The New Empire  tt14539740     NaN\n",
       "3                   Kung Fu Panda 4   tt21692408     NaN\n",
       "4        Ghostbusters: Frozen Empire  tt21235248     NaN\n",
       "5               Bob Marley: One Love   tt8521778     NaN"
      ]
     },
     "execution_count": 6,
     "metadata": {},
     "output_type": "execute_result"
    }
   ],
   "source": [
    "data"
   ]
  },
  {
   "cell_type": "code",
   "execution_count": 7,
   "id": "4f6b6c85",
   "metadata": {},
   "outputs": [
    {
     "name": "stdout",
     "output_type": "stream",
     "text": [
      "{'movie_results': [{'backdrop_path': '/xOMo8BRK7PfcJv9JCnx7s5hj0PX.jpg', 'id': 693134, 'original_title': 'Dune: Part Two', 'overview': 'Follow the mythic journey of Paul Atreides as he unites with Chani and the Fremen while on a path of revenge against the conspirators who destroyed his family. Facing a choice between the love of his life and the fate of the known universe, Paul endeavors to prevent a terrible future only he can foresee.', 'poster_path': '/czembW0Rk1Ke7lCJGahbOhdCuhV.jpg', 'media_type': 'movie', 'adult': False, 'title': 'Dune: Part Two', 'original_language': 'en', 'genre_ids': [878, 12], 'popularity': 1339.96, 'release_date': '2024-02-27', 'video': False, 'vote_average': 8.206, 'vote_count': 3843}], 'person_results': [], 'tv_results': [], 'tv_episode_results': [], 'tv_season_results': []}\n",
      "{'movie_results': [{'backdrop_path': '/fqv8v6AycXKsivp1T5yKtLbGXce.jpg', 'id': 653346, 'original_title': 'Kingdom of the Planet of the Apes', 'overview': \"Several generations in the future following Caesar's reign, apes are now the dominant species and live harmoniously while humans have been reduced to living in the shadows. As a new tyrannical ape leader builds his empire, one young ape undertakes a harrowing journey that will cause him to question all that he has known about the past and to make choices that will define a future for apes and humans alike.\", 'poster_path': '/gKkl37BQuKTanygYQG1pyYgLVgf.jpg', 'media_type': 'movie', 'adult': False, 'title': 'Kingdom of the Planet of the Apes', 'original_language': 'en', 'genre_ids': [878, 12, 28], 'popularity': 3264.146, 'release_date': '2024-05-08', 'video': False, 'vote_average': 7.224, 'vote_count': 268}], 'person_results': [], 'tv_results': [], 'tv_episode_results': [], 'tv_season_results': []}\n",
      "{'movie_results': [{'backdrop_path': '/lLh39Th5plbrQgbQ4zyIULsd0Pp.jpg', 'id': 823464, 'original_title': 'Godzilla x Kong: The New Empire', 'overview': 'Following their explosive showdown, Godzilla and Kong must reunite against a colossal undiscovered threat hidden within our world, challenging their very existence – and our own.', 'poster_path': '/1G978IJ2KDPl4Z4icZrxZTozb1v.jpg', 'media_type': 'movie', 'adult': False, 'title': 'Godzilla x Kong: The New Empire', 'original_language': 'en', 'genre_ids': [878, 28, 12], 'popularity': 1990.199, 'release_date': '2024-03-27', 'video': False, 'vote_average': 6.671, 'vote_count': 1154}], 'person_results': [], 'tv_results': [], 'tv_episode_results': [], 'tv_season_results': []}\n",
      "{'movie_results': [{'backdrop_path': '/kYgQzzjNis5jJalYtIHgrom0gOx.jpg', 'id': 1011985, 'original_title': 'Kung Fu Panda 4', 'overview': 'Po is gearing up to become the spiritual leader of his Valley of Peace, but also needs someone to take his place as Dragon Warrior. As such, he will train a new kung fu practitioner for the spot and will encounter a villain called the Chameleon who conjures villains from the past.', 'poster_path': '/kDp1vUBnMpe8ak4rjgl3cLELqjU.jpg', 'media_type': 'movie', 'adult': False, 'title': 'Kung Fu Panda 4', 'original_language': 'en', 'genre_ids': [16, 28, 10751, 35, 14], 'popularity': 1456.094, 'release_date': '2024-03-02', 'video': False, 'vote_average': 7.125, 'vote_count': 1613}], 'person_results': [], 'tv_results': [], 'tv_episode_results': [], 'tv_season_results': []}\n",
      "{'movie_results': [{'backdrop_path': '/5cCfqeUH2f5Gnu7Lh9xepY9TB6x.jpg', 'id': 967847, 'original_title': 'Ghostbusters: Frozen Empire', 'overview': 'After the original team developed a top-secret research laboratory to take the shattered ghosts to the next level. But when the discovery of an ancient artifact unleashes an evil force, both new and old must join forces to protect their homeland and save the world from the Second Ice Age... from the very thing that unleashes an unstoppable force from the depths of history. As chaos reigns and pure evil plunges the world into darkness, the Ghostbusters must step forward once again to save humanity from the brink of doom. With two generations of Ghostbusters fighting side by side, the stakes have never been higher. Will they be able to avert the inevitable before everything freezes?', 'poster_path': '/e1J2oNzSBdou01sUvriVuoYp0pJ.jpg', 'media_type': 'movie', 'adult': False, 'title': 'Ghostbusters: Frozen Empire', 'original_language': 'en', 'genre_ids': [14, 12, 35], 'popularity': 2450.304, 'release_date': '2024-03-20', 'video': False, 'vote_average': 6.7, 'vote_count': 665}], 'person_results': [], 'tv_results': [], 'tv_episode_results': [], 'tv_season_results': []}\n",
      "{'movie_results': [{'backdrop_path': '/1ZSKH5GGFlM8M32K34GMdaNS2Ew.jpg', 'id': 802219, 'original_title': 'Bob Marley: One Love', 'overview': 'Jamaican singer-songwriter Bob Marley overcomes adversity to become the most famous reggae musician in the world.', 'poster_path': '/n0GVTNJvhUlJ1Mj73JHZBTHVFuc.jpg', 'media_type': 'movie', 'adult': False, 'title': 'Bob Marley: One Love', 'original_language': 'en', 'genre_ids': [10402, 36, 18], 'popularity': 142.011, 'release_date': '2024-02-14', 'video': False, 'vote_average': 6.945, 'vote_count': 540}], 'person_results': [], 'tv_results': [], 'tv_episode_results': [], 'tv_season_results': []}\n"
     ]
    }
   ],
   "source": [
    "data['poster'] = data['Const'].apply(get_poster)"
   ]
  },
  {
   "cell_type": "code",
   "execution_count": 8,
   "id": "d9534317",
   "metadata": {},
   "outputs": [
    {
     "data": {
      "text/html": [
       "<div>\n",
       "<style scoped>\n",
       "    .dataframe tbody tr th:only-of-type {\n",
       "        vertical-align: middle;\n",
       "    }\n",
       "\n",
       "    .dataframe tbody tr th {\n",
       "        vertical-align: top;\n",
       "    }\n",
       "\n",
       "    .dataframe thead th {\n",
       "        text-align: right;\n",
       "    }\n",
       "</style>\n",
       "<table border=\"1\" class=\"dataframe\">\n",
       "  <thead>\n",
       "    <tr style=\"text-align: right;\">\n",
       "      <th></th>\n",
       "      <th>Title</th>\n",
       "      <th>Const</th>\n",
       "      <th>poster</th>\n",
       "    </tr>\n",
       "  </thead>\n",
       "  <tbody>\n",
       "    <tr>\n",
       "      <th>0</th>\n",
       "      <td>Dune: Part Two</td>\n",
       "      <td>tt15239678</td>\n",
       "      <td>https://image.tmdb.org/t/p/original/czembW0Rk1...</td>\n",
       "    </tr>\n",
       "    <tr>\n",
       "      <th>1</th>\n",
       "      <td>Kingdom of the Planet of the Apes</td>\n",
       "      <td>tt11389872</td>\n",
       "      <td>https://image.tmdb.org/t/p/original/gKkl37BQuK...</td>\n",
       "    </tr>\n",
       "    <tr>\n",
       "      <th>2</th>\n",
       "      <td>Godzilla x Kong: The New Empire</td>\n",
       "      <td>tt14539740</td>\n",
       "      <td>https://image.tmdb.org/t/p/original/1G978IJ2KD...</td>\n",
       "    </tr>\n",
       "    <tr>\n",
       "      <th>3</th>\n",
       "      <td>Kung Fu Panda 4</td>\n",
       "      <td>tt21692408</td>\n",
       "      <td>https://image.tmdb.org/t/p/original/kDp1vUBnMp...</td>\n",
       "    </tr>\n",
       "    <tr>\n",
       "      <th>4</th>\n",
       "      <td>Ghostbusters: Frozen Empire</td>\n",
       "      <td>tt21235248</td>\n",
       "      <td>https://image.tmdb.org/t/p/original/e1J2oNzSBd...</td>\n",
       "    </tr>\n",
       "    <tr>\n",
       "      <th>5</th>\n",
       "      <td>Bob Marley: One Love</td>\n",
       "      <td>tt8521778</td>\n",
       "      <td>https://image.tmdb.org/t/p/original/n0GVTNJvhU...</td>\n",
       "    </tr>\n",
       "  </tbody>\n",
       "</table>\n",
       "</div>"
      ],
      "text/plain": [
       "                               Title       Const  \\\n",
       "0                     Dune: Part Two  tt15239678   \n",
       "1  Kingdom of the Planet of the Apes  tt11389872   \n",
       "2    Godzilla x Kong: The New Empire  tt14539740   \n",
       "3                   Kung Fu Panda 4   tt21692408   \n",
       "4        Ghostbusters: Frozen Empire  tt21235248   \n",
       "5               Bob Marley: One Love   tt8521778   \n",
       "\n",
       "                                              poster  \n",
       "0  https://image.tmdb.org/t/p/original/czembW0Rk1...  \n",
       "1  https://image.tmdb.org/t/p/original/gKkl37BQuK...  \n",
       "2  https://image.tmdb.org/t/p/original/1G978IJ2KD...  \n",
       "3  https://image.tmdb.org/t/p/original/kDp1vUBnMp...  \n",
       "4  https://image.tmdb.org/t/p/original/e1J2oNzSBd...  \n",
       "5  https://image.tmdb.org/t/p/original/n0GVTNJvhU...  "
      ]
     },
     "execution_count": 8,
     "metadata": {},
     "output_type": "execute_result"
    }
   ],
   "source": [
    "data"
   ]
  },
  {
   "cell_type": "code",
   "execution_count": 9,
   "id": "6cceecd3",
   "metadata": {},
   "outputs": [],
   "source": [
    "data.to_csv(\"2024_e.csv\", index= False)"
   ]
  },
  {
   "cell_type": "code",
   "execution_count": 1,
   "id": "0108fe78",
   "metadata": {},
   "outputs": [],
   "source": [
    "import pandas as pd"
   ]
  },
  {
   "cell_type": "code",
   "execution_count": 2,
   "id": "a538a12b",
   "metadata": {},
   "outputs": [],
   "source": [
    "df = pd.read_csv('2024_e.csv')"
   ]
  },
  {
   "cell_type": "code",
   "execution_count": 3,
   "id": "dbcea96f",
   "metadata": {},
   "outputs": [],
   "source": [
    "import urllib.request\n",
    "from bs4 import BeautifulSoup as bs\n",
    "\n",
    "def scrape_reviews(imdb_id):\n",
    "    sauce = urllib.request.urlopen('https://www.imdb.com/title/{}/reviews?ref_=tt_ov_rt'.format(imdb_id)).read()\n",
    "    soup = bs(sauce, 'lxml')\n",
    "    soup_result = soup.find_all(\"div\", {\"class\": \"text show-more__control\"})\n",
    "    #soup_result = soup.find_all(\"div\", {\"class\": \"ipc-html-content-inner-div\"})\n",
    "    reviews_list = []  # list of reviews\n",
    "\n",
    "    for reviews in soup_result:\n",
    "        if reviews.string:\n",
    "            review_text = reviews.string.strip()  # Remove leading/trailing spaces\n",
    "            reviews_list.append(review_text)\n",
    "\n",
    "    return reviews_list"
   ]
  },
  {
   "cell_type": "code",
   "execution_count": 4,
   "id": "bb11ad0d",
   "metadata": {},
   "outputs": [],
   "source": [
    "reviews = []"
   ]
  },
  {
   "cell_type": "code",
   "execution_count": 12,
   "id": "ee1a5688",
   "metadata": {},
   "outputs": [],
   "source": [
    "for id in df['Const']:\n",
    "    for review in (scrape_reviews(str(id))):\n",
    "        reviews.append(review)"
   ]
  },
  {
   "cell_type": "code",
   "execution_count": 5,
   "id": "ee036c9c",
   "metadata": {},
   "outputs": [],
   "source": [
    "reviews.append(df['Const'].apply(scrape_reviews))"
   ]
  },
  {
   "cell_type": "code",
   "execution_count": 13,
   "id": "bb84f004",
   "metadata": {},
   "outputs": [
    {
     "data": {
      "text/plain": [
       "[0    []\n",
       " 1    []\n",
       " 2    []\n",
       " 3    []\n",
       " 4    []\n",
       " 5    []\n",
       " Name: Const, dtype: object,\n",
       " [],\n",
       " [],\n",
       " [],\n",
       " [],\n",
       " [],\n",
       " []]"
      ]
     },
     "execution_count": 13,
     "metadata": {},
     "output_type": "execute_result"
    }
   ],
   "source": [
    "reviews"
   ]
  },
  {
   "cell_type": "code",
   "execution_count": 14,
   "id": "d00e7a3d",
   "metadata": {},
   "outputs": [],
   "source": [
    "for i in scrape_reviews('tt0214915'):\n",
    "    print(i + \"\\n\\n\")"
   ]
  },
  {
   "cell_type": "code",
   "execution_count": null,
   "id": "4689a2d8",
   "metadata": {},
   "outputs": [],
   "source": []
  },
  {
   "cell_type": "code",
   "execution_count": 2,
   "id": "73d18276",
   "metadata": {},
   "outputs": [],
   "source": [
    "df = pd.read_csv(\"actors.csv\")"
   ]
  },
  {
   "cell_type": "code",
   "execution_count": 3,
   "id": "bee5b815",
   "metadata": {},
   "outputs": [
    {
     "data": {
      "text/html": [
       "<div>\n",
       "<style scoped>\n",
       "    .dataframe tbody tr th:only-of-type {\n",
       "        vertical-align: middle;\n",
       "    }\n",
       "\n",
       "    .dataframe tbody tr th {\n",
       "        vertical-align: top;\n",
       "    }\n",
       "\n",
       "    .dataframe thead th {\n",
       "        text-align: right;\n",
       "    }\n",
       "</style>\n",
       "<table border=\"1\" class=\"dataframe\">\n",
       "  <thead>\n",
       "    <tr style=\"text-align: right;\">\n",
       "      <th></th>\n",
       "      <th>Position</th>\n",
       "      <th>Const</th>\n",
       "      <th>Created</th>\n",
       "      <th>Modified</th>\n",
       "      <th>Description</th>\n",
       "      <th>Name</th>\n",
       "      <th>Known For</th>\n",
       "      <th>Birth Date</th>\n",
       "    </tr>\n",
       "  </thead>\n",
       "  <tbody>\n",
       "    <tr>\n",
       "      <th>0</th>\n",
       "      <td>1</td>\n",
       "      <td>nm0482320</td>\n",
       "      <td>2020-04-23</td>\n",
       "      <td>2020-04-23</td>\n",
       "      <td>NaN</td>\n",
       "      <td>Mohanlal</td>\n",
       "      <td>Dasharatham</td>\n",
       "      <td>May 21, 1960</td>\n",
       "    </tr>\n",
       "    <tr>\n",
       "      <th>1</th>\n",
       "      <td>2</td>\n",
       "      <td>nm0007123</td>\n",
       "      <td>2020-04-23</td>\n",
       "      <td>2020-04-23</td>\n",
       "      <td>NaN</td>\n",
       "      <td>Mammootty</td>\n",
       "      <td>Oru Vadakkan Veeragatha</td>\n",
       "      <td>September 7, 1951</td>\n",
       "    </tr>\n",
       "    <tr>\n",
       "      <th>2</th>\n",
       "      <td>3</td>\n",
       "      <td>nm1335387</td>\n",
       "      <td>2020-04-23</td>\n",
       "      <td>2020-04-23</td>\n",
       "      <td>NaN</td>\n",
       "      <td>Prithviraj Sukumaran</td>\n",
       "      <td>Ennu Ninte Moideen</td>\n",
       "      <td>October 16, 1982</td>\n",
       "    </tr>\n",
       "    <tr>\n",
       "      <th>3</th>\n",
       "      <td>4</td>\n",
       "      <td>nm4921260</td>\n",
       "      <td>2020-04-23</td>\n",
       "      <td>2020-04-23</td>\n",
       "      <td>NaN</td>\n",
       "      <td>Dulquer Salmaan</td>\n",
       "      <td>Charlie</td>\n",
       "      <td>July 28, 1986</td>\n",
       "    </tr>\n",
       "    <tr>\n",
       "      <th>4</th>\n",
       "      <td>5</td>\n",
       "      <td>nm0226770</td>\n",
       "      <td>2020-04-23</td>\n",
       "      <td>2020-04-23</td>\n",
       "      <td>NaN</td>\n",
       "      <td>Dileep</td>\n",
       "      <td>Sound Thoma</td>\n",
       "      <td>October 27, 1968</td>\n",
       "    </tr>\n",
       "    <tr>\n",
       "      <th>5</th>\n",
       "      <td>6</td>\n",
       "      <td>nm4028885</td>\n",
       "      <td>2020-04-23</td>\n",
       "      <td>2020-04-23</td>\n",
       "      <td>NaN</td>\n",
       "      <td>Nivin Pauly</td>\n",
       "      <td>Premam</td>\n",
       "      <td>October 11, 1984</td>\n",
       "    </tr>\n",
       "    <tr>\n",
       "      <th>6</th>\n",
       "      <td>7</td>\n",
       "      <td>nm1335704</td>\n",
       "      <td>2020-04-23</td>\n",
       "      <td>2020-04-23</td>\n",
       "      <td>NaN</td>\n",
       "      <td>Fahadh Faasil</td>\n",
       "      <td>Pushpa: The Rise - Part 1</td>\n",
       "      <td>August 8, 1982</td>\n",
       "    </tr>\n",
       "    <tr>\n",
       "      <th>7</th>\n",
       "      <td>8</td>\n",
       "      <td>nm0090283</td>\n",
       "      <td>2020-04-23</td>\n",
       "      <td>2020-04-23</td>\n",
       "      <td>NaN</td>\n",
       "      <td>Kunchacko Boban</td>\n",
       "      <td>Anjaam Pathiraa</td>\n",
       "      <td>November 2, 1976</td>\n",
       "    </tr>\n",
       "    <tr>\n",
       "      <th>8</th>\n",
       "      <td>9</td>\n",
       "      <td>nm1334389</td>\n",
       "      <td>2020-04-23</td>\n",
       "      <td>2020-04-23</td>\n",
       "      <td>NaN</td>\n",
       "      <td>Jayasurya</td>\n",
       "      <td>Su Su Sudhi Vathmeekam</td>\n",
       "      <td>August 31, 1978</td>\n",
       "    </tr>\n",
       "    <tr>\n",
       "      <th>9</th>\n",
       "      <td>10</td>\n",
       "      <td>nm0419688</td>\n",
       "      <td>2020-04-23</td>\n",
       "      <td>2020-04-23</td>\n",
       "      <td>NaN</td>\n",
       "      <td>Jayaram</td>\n",
       "      <td>Thuppakki</td>\n",
       "      <td>December 10, 1964</td>\n",
       "    </tr>\n",
       "  </tbody>\n",
       "</table>\n",
       "</div>"
      ],
      "text/plain": [
       "   Position      Const     Created    Modified  Description  \\\n",
       "0         1  nm0482320  2020-04-23  2020-04-23          NaN   \n",
       "1         2  nm0007123  2020-04-23  2020-04-23          NaN   \n",
       "2         3  nm1335387  2020-04-23  2020-04-23          NaN   \n",
       "3         4  nm4921260  2020-04-23  2020-04-23          NaN   \n",
       "4         5  nm0226770  2020-04-23  2020-04-23          NaN   \n",
       "5         6  nm4028885  2020-04-23  2020-04-23          NaN   \n",
       "6         7  nm1335704  2020-04-23  2020-04-23          NaN   \n",
       "7         8  nm0090283  2020-04-23  2020-04-23          NaN   \n",
       "8         9  nm1334389  2020-04-23  2020-04-23          NaN   \n",
       "9        10  nm0419688  2020-04-23  2020-04-23          NaN   \n",
       "\n",
       "                   Name                  Known For         Birth Date  \n",
       "0              Mohanlal                Dasharatham       May 21, 1960  \n",
       "1             Mammootty    Oru Vadakkan Veeragatha  September 7, 1951  \n",
       "2  Prithviraj Sukumaran         Ennu Ninte Moideen   October 16, 1982  \n",
       "3       Dulquer Salmaan                    Charlie      July 28, 1986  \n",
       "4                Dileep                Sound Thoma   October 27, 1968  \n",
       "5           Nivin Pauly                     Premam   October 11, 1984  \n",
       "6         Fahadh Faasil  Pushpa: The Rise - Part 1     August 8, 1982  \n",
       "7       Kunchacko Boban            Anjaam Pathiraa   November 2, 1976  \n",
       "8             Jayasurya     Su Su Sudhi Vathmeekam    August 31, 1978  \n",
       "9               Jayaram                  Thuppakki  December 10, 1964  "
      ]
     },
     "execution_count": 3,
     "metadata": {},
     "output_type": "execute_result"
    }
   ],
   "source": [
    "df"
   ]
  },
  {
   "cell_type": "code",
   "execution_count": null,
   "id": "e2f19d73",
   "metadata": {},
   "outputs": [],
   "source": [
    "url = \"https://api.themoviedb.org/3/find/{}?api_key=64f14bfc62f718d2cf962fe150e5bc40&external_source=imdb_id\""
   ]
  },
  {
   "cell_type": "code",
   "execution_count": 4,
   "id": "c628d63b",
   "metadata": {},
   "outputs": [],
   "source": [
    "df.drop(['Position', 'Created', 'Modified', 'Description', 'Known For', 'Birth Date'], axis = 1, inplace = True)"
   ]
  },
  {
   "cell_type": "code",
   "execution_count": 5,
   "id": "f8189308",
   "metadata": {},
   "outputs": [
    {
     "data": {
      "text/html": [
       "<div>\n",
       "<style scoped>\n",
       "    .dataframe tbody tr th:only-of-type {\n",
       "        vertical-align: middle;\n",
       "    }\n",
       "\n",
       "    .dataframe tbody tr th {\n",
       "        vertical-align: top;\n",
       "    }\n",
       "\n",
       "    .dataframe thead th {\n",
       "        text-align: right;\n",
       "    }\n",
       "</style>\n",
       "<table border=\"1\" class=\"dataframe\">\n",
       "  <thead>\n",
       "    <tr style=\"text-align: right;\">\n",
       "      <th></th>\n",
       "      <th>Const</th>\n",
       "      <th>Name</th>\n",
       "    </tr>\n",
       "  </thead>\n",
       "  <tbody>\n",
       "    <tr>\n",
       "      <th>0</th>\n",
       "      <td>nm0482320</td>\n",
       "      <td>Mohanlal</td>\n",
       "    </tr>\n",
       "    <tr>\n",
       "      <th>1</th>\n",
       "      <td>nm0007123</td>\n",
       "      <td>Mammootty</td>\n",
       "    </tr>\n",
       "    <tr>\n",
       "      <th>2</th>\n",
       "      <td>nm1335387</td>\n",
       "      <td>Prithviraj Sukumaran</td>\n",
       "    </tr>\n",
       "    <tr>\n",
       "      <th>3</th>\n",
       "      <td>nm4921260</td>\n",
       "      <td>Dulquer Salmaan</td>\n",
       "    </tr>\n",
       "    <tr>\n",
       "      <th>4</th>\n",
       "      <td>nm0226770</td>\n",
       "      <td>Dileep</td>\n",
       "    </tr>\n",
       "    <tr>\n",
       "      <th>5</th>\n",
       "      <td>nm4028885</td>\n",
       "      <td>Nivin Pauly</td>\n",
       "    </tr>\n",
       "    <tr>\n",
       "      <th>6</th>\n",
       "      <td>nm1335704</td>\n",
       "      <td>Fahadh Faasil</td>\n",
       "    </tr>\n",
       "    <tr>\n",
       "      <th>7</th>\n",
       "      <td>nm0090283</td>\n",
       "      <td>Kunchacko Boban</td>\n",
       "    </tr>\n",
       "    <tr>\n",
       "      <th>8</th>\n",
       "      <td>nm1334389</td>\n",
       "      <td>Jayasurya</td>\n",
       "    </tr>\n",
       "    <tr>\n",
       "      <th>9</th>\n",
       "      <td>nm0419688</td>\n",
       "      <td>Jayaram</td>\n",
       "    </tr>\n",
       "  </tbody>\n",
       "</table>\n",
       "</div>"
      ],
      "text/plain": [
       "       Const                  Name\n",
       "0  nm0482320              Mohanlal\n",
       "1  nm0007123             Mammootty\n",
       "2  nm1335387  Prithviraj Sukumaran\n",
       "3  nm4921260       Dulquer Salmaan\n",
       "4  nm0226770                Dileep\n",
       "5  nm4028885           Nivin Pauly\n",
       "6  nm1335704         Fahadh Faasil\n",
       "7  nm0090283       Kunchacko Boban\n",
       "8  nm1334389             Jayasurya\n",
       "9  nm0419688               Jayaram"
      ]
     },
     "execution_count": 5,
     "metadata": {},
     "output_type": "execute_result"
    }
   ],
   "source": [
    "df"
   ]
  },
  {
   "cell_type": "code",
   "execution_count": 19,
   "id": "17be8d01",
   "metadata": {},
   "outputs": [],
   "source": [
    "def get_poster(id):\n",
    "    url = url = \"https://api.themoviedb.org/3/find/{}?api_key=64f14bfc62f718d2cf962fe150e5bc40&external_source=imdb_id\"\n",
    "    response = requests.get(url.format(id))\n",
    "    result = response.json()\n",
    "    result = result['person_results'][0]\n",
    "    poster = result['profile_path']\n",
    "    poster = \"https://image.tmdb.org/t/p/original\" + poster\n",
    "    return poster"
   ]
  },
  {
   "cell_type": "code",
   "execution_count": 20,
   "id": "31c991c2",
   "metadata": {},
   "outputs": [
    {
     "data": {
      "text/plain": [
       "'https://image.tmdb.org/t/p/original/c5ewp9XtDIOwK5QWhwA7TD0GzqO.jpg'"
      ]
     },
     "execution_count": 20,
     "metadata": {},
     "output_type": "execute_result"
    }
   ],
   "source": [
    "get_poster('nm0007123')"
   ]
  },
  {
   "cell_type": "code",
   "execution_count": 21,
   "id": "165bc661",
   "metadata": {},
   "outputs": [],
   "source": [
    "df['poster'] = df['Const'].apply(get_poster)"
   ]
  },
  {
   "cell_type": "code",
   "execution_count": 22,
   "id": "f281cf07",
   "metadata": {},
   "outputs": [
    {
     "data": {
      "text/html": [
       "<div>\n",
       "<style scoped>\n",
       "    .dataframe tbody tr th:only-of-type {\n",
       "        vertical-align: middle;\n",
       "    }\n",
       "\n",
       "    .dataframe tbody tr th {\n",
       "        vertical-align: top;\n",
       "    }\n",
       "\n",
       "    .dataframe thead th {\n",
       "        text-align: right;\n",
       "    }\n",
       "</style>\n",
       "<table border=\"1\" class=\"dataframe\">\n",
       "  <thead>\n",
       "    <tr style=\"text-align: right;\">\n",
       "      <th></th>\n",
       "      <th>Const</th>\n",
       "      <th>Name</th>\n",
       "      <th>poster</th>\n",
       "    </tr>\n",
       "  </thead>\n",
       "  <tbody>\n",
       "    <tr>\n",
       "      <th>0</th>\n",
       "      <td>nm0482320</td>\n",
       "      <td>Mohanlal</td>\n",
       "      <td>https://image.tmdb.org/t/p/original/4oQtVIfXVp...</td>\n",
       "    </tr>\n",
       "    <tr>\n",
       "      <th>1</th>\n",
       "      <td>nm0007123</td>\n",
       "      <td>Mammootty</td>\n",
       "      <td>https://image.tmdb.org/t/p/original/c5ewp9XtDI...</td>\n",
       "    </tr>\n",
       "    <tr>\n",
       "      <th>2</th>\n",
       "      <td>nm1335387</td>\n",
       "      <td>Prithviraj Sukumaran</td>\n",
       "      <td>https://image.tmdb.org/t/p/original/a9f9Tkc4gE...</td>\n",
       "    </tr>\n",
       "    <tr>\n",
       "      <th>3</th>\n",
       "      <td>nm4921260</td>\n",
       "      <td>Dulquer Salmaan</td>\n",
       "      <td>https://image.tmdb.org/t/p/original/8AT3qDRakZ...</td>\n",
       "    </tr>\n",
       "    <tr>\n",
       "      <th>4</th>\n",
       "      <td>nm0226770</td>\n",
       "      <td>Dileep</td>\n",
       "      <td>https://image.tmdb.org/t/p/original/9CsxIpYlnW...</td>\n",
       "    </tr>\n",
       "    <tr>\n",
       "      <th>5</th>\n",
       "      <td>nm4028885</td>\n",
       "      <td>Nivin Pauly</td>\n",
       "      <td>https://image.tmdb.org/t/p/original/6W4nGeMkRW...</td>\n",
       "    </tr>\n",
       "    <tr>\n",
       "      <th>6</th>\n",
       "      <td>nm1335704</td>\n",
       "      <td>Fahadh Faasil</td>\n",
       "      <td>https://image.tmdb.org/t/p/original/wmkwZWFHqM...</td>\n",
       "    </tr>\n",
       "    <tr>\n",
       "      <th>7</th>\n",
       "      <td>nm0090283</td>\n",
       "      <td>Kunchacko Boban</td>\n",
       "      <td>https://image.tmdb.org/t/p/original/1jdbIaYOBu...</td>\n",
       "    </tr>\n",
       "    <tr>\n",
       "      <th>8</th>\n",
       "      <td>nm1334389</td>\n",
       "      <td>Jayasurya</td>\n",
       "      <td>https://image.tmdb.org/t/p/original/m3M0skefVc...</td>\n",
       "    </tr>\n",
       "    <tr>\n",
       "      <th>9</th>\n",
       "      <td>nm0419688</td>\n",
       "      <td>Jayaram</td>\n",
       "      <td>https://image.tmdb.org/t/p/original/cc1SfVFctu...</td>\n",
       "    </tr>\n",
       "  </tbody>\n",
       "</table>\n",
       "</div>"
      ],
      "text/plain": [
       "       Const                  Name  \\\n",
       "0  nm0482320              Mohanlal   \n",
       "1  nm0007123             Mammootty   \n",
       "2  nm1335387  Prithviraj Sukumaran   \n",
       "3  nm4921260       Dulquer Salmaan   \n",
       "4  nm0226770                Dileep   \n",
       "5  nm4028885           Nivin Pauly   \n",
       "6  nm1335704         Fahadh Faasil   \n",
       "7  nm0090283       Kunchacko Boban   \n",
       "8  nm1334389             Jayasurya   \n",
       "9  nm0419688               Jayaram   \n",
       "\n",
       "                                              poster  \n",
       "0  https://image.tmdb.org/t/p/original/4oQtVIfXVp...  \n",
       "1  https://image.tmdb.org/t/p/original/c5ewp9XtDI...  \n",
       "2  https://image.tmdb.org/t/p/original/a9f9Tkc4gE...  \n",
       "3  https://image.tmdb.org/t/p/original/8AT3qDRakZ...  \n",
       "4  https://image.tmdb.org/t/p/original/9CsxIpYlnW...  \n",
       "5  https://image.tmdb.org/t/p/original/6W4nGeMkRW...  \n",
       "6  https://image.tmdb.org/t/p/original/wmkwZWFHqM...  \n",
       "7  https://image.tmdb.org/t/p/original/1jdbIaYOBu...  \n",
       "8  https://image.tmdb.org/t/p/original/m3M0skefVc...  \n",
       "9  https://image.tmdb.org/t/p/original/cc1SfVFctu...  "
      ]
     },
     "execution_count": 22,
     "metadata": {},
     "output_type": "execute_result"
    }
   ],
   "source": [
    "df"
   ]
  },
  {
   "cell_type": "code",
   "execution_count": 23,
   "id": "af577599",
   "metadata": {},
   "outputs": [],
   "source": [
    "df.to_csv('actors_poster.csv', index = False)"
   ]
  },
  {
   "cell_type": "code",
   "execution_count": null,
   "id": "a7120cd4",
   "metadata": {},
   "outputs": [],
   "source": []
  }
 ],
 "metadata": {
  "kernelspec": {
   "display_name": "Python 3 (ipykernel)",
   "language": "python",
   "name": "python3"
  },
  "language_info": {
   "codemirror_mode": {
    "name": "ipython",
    "version": 3
   },
   "file_extension": ".py",
   "mimetype": "text/x-python",
   "name": "python",
   "nbconvert_exporter": "python",
   "pygments_lexer": "ipython3",
   "version": "3.9.13"
  }
 },
 "nbformat": 4,
 "nbformat_minor": 5
}
